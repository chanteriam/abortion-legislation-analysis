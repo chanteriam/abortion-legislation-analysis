{
  "cells": [
    {
      "cell_type": "code",
      "execution_count": 2,
      "id": "initial_id",
      "metadata": {
        "ExecuteTime": {
          "end_time": "2024-02-29T04:15:14.032354Z",
          "start_time": "2024-02-29T04:15:10.437794Z"
        },
        "collapsed": true
      },
      "outputs": [],
      "source": [
        "from legislation_analysis.utils.constants import (\n",
        "    CONGRESS_DATA_CLEANED_FILE,\n",
        "    CONGRESS_DATA_CLUSTERED_FILE,\n",
        "    CONGRESS_DATA_NER_FILE,\n",
        "    CONGRESS_DATA_POS_TAGGED_FILE,\n",
        "    CONGRESS_DATA_TOKENIZED_FILE,\n",
        "    SCOTUS_DATA_CLEANED_FILE,\n",
        "    SCOTUS_DATA_CLUSTERED_FILE,\n",
        "    SCOTUS_DATA_NER_FILE,\n",
        "    SCOTUS_DATA_POS_TAGGED_FILE,\n",
        "    SCOTUS_DATA_TOKENIZED_FILE,\n",
        ")\n",
        "from legislation_analysis.utils.functions import load_file_to_df"
      ]
    },
    {
      "cell_type": "markdown",
      "id": "ba40a57eaa21b8dc",
      "metadata": {
        "collapsed": false
      },
      "source": [
        "# From Roe to Dobbs: Tracing the Legislative Shift in Abortion Rights in the United States"
      ]
    },
    {
      "cell_type": "markdown",
      "id": "1510a882c380e9d",
      "metadata": {
        "collapsed": false
      },
      "source": [
        "## Rationale and Research Focus\n",
        "\n",
        "This project aims to analyze the evolution of abortion discourse in U.S. legislation, \n",
        "particularly between the landmark Roe v. Wade (1973) and Dobbs v. Jackson (2022) \n",
        "decisions, which established and then rescinded abortion as a constitutional right, \n",
        "respectively. We have assembled a dataset of congressional legislation from 1973 to \n",
        "2024 alongside a dataset of opinions from 13 pivotal Supreme Court cases.\n",
        "\n",
        "Our main research questions are as follows:\n",
        "\n",
        "1. How, if at all, has abortion discourse evolved between the two landmark decisions?\n",
        "2. What congressional legislation came as a direct result of, or in contradiction to, \n",
        "  abortion-related SCOTUS decisions?\n",
        "3. What are the main arguments used in favor of and opposed to abortion?\n",
        "\n",
        "This project will focus on two main datasets: abortion-related SCOTUS opinions and \n",
        "abortion-related congressional legislation. For congressional legislation, we will \n",
        "explore all legislation from 1973 until 2024. We sourced this legislation from the \n",
        "congress.gov legislation search, where we filtered for any legislation within this \n",
        "period that could have become bills and included the following keywords in the bill \n",
        "text or summary: 'abortion,' 'reproduction,' or 'reproductive health care.' For the\n",
        " SCOTUS abortion legislation, we targeted SCOTUS decisions outlined on \n",
        "`supreme.justia.com`, which provides a list of abortion-relevant SCOTUS decisions \n",
        "from 1965-2022. From here, we used web-scraping to extract the relevant information \n",
        "for each SCOTUS opinion, including opinion text."
      ]
    },
    {
      "cell_type": "markdown",
      "id": "95a052b3c575ad5e",
      "metadata": {
        "collapsed": false
      },
      "source": [
        "## Methods\n",
        "\n",
        "Based on our outlined questions, we expect to apply the following methods:\n",
        "\n",
        "1. A **clustering method** to categorize the congressional legislation into three \n",
        "  groups: `pro-abortion`, `anti-abortion`, and `unrelated` (noise). We will review \n",
        "  and discard the unrelated legislation.\n",
        "2. Similarly, a **clustering method** to categorize arguments within SCOTUS opinions \n",
        "  as either pro- or anti-abortion.\n",
        "3. A **structural topic modeling** on the two relevant clusters to explore the \n",
        "  evolution of arguments for and against abortion over time. Due to the absence of \n",
        "  specific dates on the legislation, we will use the congressional session number as \n",
        "  a temporal reference.\n",
        "4. A **named-entity recognition** model for extracting referenced individuals, other \n",
        "  congressional legislation, and most importantly, the relevant supreme court cases.\n",
        "\n",
        "We plan to use them as benchmarks to categorize legislative sessions. For example, if \n",
        "a case on abortion was adjudicated in 2010 and another in 2015, we would assess the \n",
        "semantic, tonal, and linguistic similarities among all congressional legislation \n",
        "enacted between those years. Our hypothesis posits that the substance of Supreme Court \n",
        "opinions significantly influences abortion-related legislation from the time of their \n",
        "issuance until a subsequent opinion emerges. We will also determine which opinions, \n",
        "aside from Roe and Dobbs, exert the most influence on legislative documents. Finally, \n",
        "as a stretch goal, we will create a network graph that centers around the SCOTUS \n",
        "opinions and links out to pieces of congressional legislation."
      ]
    },
    {
      "cell_type": "markdown",
      "id": "4eb8ef6fec19cd3a",
      "metadata": {
        "collapsed": false
      },
      "source": [
        "## Analysis\n",
        "\n",
        "[small blurb]"
      ]
    },
    {
      "cell_type": "markdown",
      "id": "af0631ffb0c90d2a",
      "metadata": {
        "collapsed": false
      },
      "source": [
        "## Results"
      ]
    },
    {
      "cell_type": "markdown",
      "id": "a39a853ebabc3c67",
      "metadata": {
        "collapsed": false
      },
      "source": [
        "## Conclusions and Reflections"
      ]
    },
    {
      "cell_type": "markdown",
      "id": "9ef121bd24af028",
      "metadata": {
        "collapsed": false
      },
      "source": [
        "## Step-by-Step Processing"
      ]
    },
    {
      "cell_type": "code",
      "execution_count": 3,
      "id": "bea059dc7145f394",
      "metadata": {
        "ExecuteTime": {
          "end_time": "2024-02-29T04:15:14.032537Z",
          "start_time": "2024-02-29T04:15:14.028677Z"
        },
        "collapsed": false
      },
      "outputs": [],
      "source": [
        "# Raw Congressional legislation DataFrame preview"
      ]
    },
    {
      "cell_type": "code",
      "execution_count": 4,
      "id": "a1fac147a39bf3c9",
      "metadata": {
        "ExecuteTime": {
          "end_time": "2024-02-29T04:15:14.032603Z",
          "start_time": "2024-02-29T04:15:14.030378Z"
        },
        "collapsed": false
      },
      "outputs": [],
      "source": [
        "# Raw SCOTUS decision DataFrame preview"
      ]
    },
    {
      "cell_type": "code",
      "execution_count": 5,
      "id": "c86479d8c7f5eb6f",
      "metadata": {
        "ExecuteTime": {
          "end_time": "2024-02-29T04:15:14.200548Z",
          "start_time": "2024-02-29T04:15:14.033153Z"
        },
        "collapsed": false
      },
      "outputs": [
        {
          "data": {
            "text/html": "<div>\n<style scoped>\n    .dataframe tbody tr th:only-of-type {\n        vertical-align: middle;\n    }\n\n    .dataframe tbody tr th {\n        vertical-align: top;\n    }\n\n    .dataframe thead th {\n        text-align: right;\n    }\n</style>\n<table border=\"1\" class=\"dataframe\">\n  <thead>\n    <tr style=\"text-align: right;\">\n      <th></th>\n      <th>legislation number</th>\n      <th>title</th>\n      <th>raw_text</th>\n      <th>cleaned_text</th>\n    </tr>\n  </thead>\n  <tbody>\n    <tr>\n      <th>0</th>\n      <td>H.R. 2907</td>\n      <td>Let Doctors Provide Reproductive Health Care Act</td>\n      <td>\\n[Congressional Bills 118th Congress]\\n[From ...</td>\n      <td>[Congressional Bills 118th Congress] [From the...</td>\n    </tr>\n    <tr>\n      <th>1</th>\n      <td>S. 1297</td>\n      <td>Let Doctors Provide Reproductive Health Care Act</td>\n      <td>\\n[Congressional Bills 118th Congress]\\n[From ...</td>\n      <td>[Congressional Bills 118th Congress] [From the...</td>\n    </tr>\n    <tr>\n      <th>2</th>\n      <td>H.R. 4901</td>\n      <td>Reproductive Health Care Accessibility Act</td>\n      <td>\\n[Congressional Bills 118th Congress]\\n[From ...</td>\n      <td>[Congressional Bills 118th Congress] [From the...</td>\n    </tr>\n    <tr>\n      <th>3</th>\n      <td>S. 2544</td>\n      <td>Reproductive Health Care Accessibility Act</td>\n      <td>\\n[Congressional Bills 118th Congress]\\n[From ...</td>\n      <td>[Congressional Bills 118th Congress] [From the...</td>\n    </tr>\n    <tr>\n      <th>4</th>\n      <td>H.R. 4147</td>\n      <td>Reproductive Health Care Training Act of 2023</td>\n      <td>\\n[Congressional Bills 118th Congress]\\n[From ...</td>\n      <td>[Congressional Bills 118th Congress] [From the...</td>\n    </tr>\n  </tbody>\n</table>\n</div>",
            "text/plain": "  legislation number                                             title  \\\n0          H.R. 2907  Let Doctors Provide Reproductive Health Care Act   \n1            S. 1297  Let Doctors Provide Reproductive Health Care Act   \n2          H.R. 4901        Reproductive Health Care Accessibility Act   \n3            S. 2544        Reproductive Health Care Accessibility Act   \n4          H.R. 4147     Reproductive Health Care Training Act of 2023   \n\n                                            raw_text  \\\n0  \\n[Congressional Bills 118th Congress]\\n[From ...   \n1  \\n[Congressional Bills 118th Congress]\\n[From ...   \n2  \\n[Congressional Bills 118th Congress]\\n[From ...   \n3  \\n[Congressional Bills 118th Congress]\\n[From ...   \n4  \\n[Congressional Bills 118th Congress]\\n[From ...   \n\n                                        cleaned_text  \n0  [Congressional Bills 118th Congress] [From the...  \n1  [Congressional Bills 118th Congress] [From the...  \n2  [Congressional Bills 118th Congress] [From the...  \n3  [Congressional Bills 118th Congress] [From the...  \n4  [Congressional Bills 118th Congress] [From the...  "
          },
          "execution_count": 5,
          "metadata": {},
          "output_type": "execute_result"
        }
      ],
      "source": [
        "# Cleaned Congressional legislation DataFrame preview\n",
        "cleaned_cong_df = load_file_to_df(CONGRESS_DATA_CLEANED_FILE)\n",
        "cleaned_cong_df[\n",
        "    [\"legislation number\", \"title\", \"raw_text\", \"cleaned_text\"]\n",
        "].head()"
      ]
    },
    {
      "cell_type": "code",
      "execution_count": 6,
      "id": "c4bb13f8d10237df",
      "metadata": {
        "ExecuteTime": {
          "end_time": "2024-02-29T04:15:14.217582Z",
          "start_time": "2024-02-29T04:15:14.196708Z"
        },
        "collapsed": false
      },
      "outputs": [
        {
          "data": {
            "text/html": "<div>\n<style scoped>\n    .dataframe tbody tr th:only-of-type {\n        vertical-align: middle;\n    }\n\n    .dataframe tbody tr th {\n        vertical-align: top;\n    }\n\n    .dataframe thead th {\n        text-align: right;\n    }\n</style>\n<table border=\"1\" class=\"dataframe\">\n  <thead>\n    <tr style=\"text-align: right;\">\n      <th></th>\n      <th>title</th>\n      <th>raw_text</th>\n      <th>cleaned_text</th>\n    </tr>\n  </thead>\n  <tbody>\n    <tr>\n      <th>0</th>\n      <td>Dobbs v. Jackson Women's Health Organization</td>\n      <td>\\n \\n \\n  \\n    \\n       \\n \\n  \\n \\n \\n \\n ...</td>\n      <td>1 (Slip Opinion) OCTOBER TERM, 2021 Syllabus N...</td>\n    </tr>\n    <tr>\n      <th>1</th>\n      <td>Whole Woman's Health v. Hellerstedt</td>\n      <td>\\n \\n \\n  \\n    \\n  \\n \\n  \\n \\n  \\n \\n \\n \\...</td>\n      <td>1 (Slip Opinion) OCTOBER TERM, 2015 Syllabus N...</td>\n    </tr>\n    <tr>\n      <th>2</th>\n      <td>Gonzales v. Carhart</td>\n      <td>(Bench Opinion)  OCTOBER TERM, 2006 1 \\n \\nSyl...</td>\n      <td>(Bench Opinion) OCTOBER TERM, 2006 1 Syllabus ...</td>\n    </tr>\n    <tr>\n      <th>3</th>\n      <td>Stenberg v. Carhart</td>\n      <td>530US2 Unit: $U85 [11-21-01 16:51:50] PAGES PG...</td>\n      <td>530US2 Unit: U85 [11-21-01 16:51:50] PAGES PGT...</td>\n    </tr>\n    <tr>\n      <th>4</th>\n      <td>Planned Parenthood of Southeastern Pennsylvani...</td>\n      <td>505us3u117 07-09-96 09:34:02 PAGES OPINPGT\\n83...</td>\n      <td>505us3u117 07-09-96 09:34:02 PAGES OPINPGT 833...</td>\n    </tr>\n  </tbody>\n</table>\n</div>",
            "text/plain": "                                               title  \\\n0       Dobbs v. Jackson Women's Health Organization   \n1                Whole Woman's Health v. Hellerstedt   \n2                                Gonzales v. Carhart   \n3                                Stenberg v. Carhart   \n4  Planned Parenthood of Southeastern Pennsylvani...   \n\n                                            raw_text  \\\n0    \\n \\n \\n  \\n    \\n       \\n \\n  \\n \\n \\n \\n ...   \n1    \\n \\n \\n  \\n    \\n  \\n \\n  \\n \\n  \\n \\n \\n \\...   \n2  (Bench Opinion)  OCTOBER TERM, 2006 1 \\n \\nSyl...   \n3  530US2 Unit: $U85 [11-21-01 16:51:50] PAGES PG...   \n4  505us3u117 07-09-96 09:34:02 PAGES OPINPGT\\n83...   \n\n                                        cleaned_text  \n0  1 (Slip Opinion) OCTOBER TERM, 2021 Syllabus N...  \n1  1 (Slip Opinion) OCTOBER TERM, 2015 Syllabus N...  \n2  (Bench Opinion) OCTOBER TERM, 2006 1 Syllabus ...  \n3  530US2 Unit: U85 [11-21-01 16:51:50] PAGES PGT...  \n4  505us3u117 07-09-96 09:34:02 PAGES OPINPGT 833...  "
          },
          "execution_count": 6,
          "metadata": {},
          "output_type": "execute_result"
        }
      ],
      "source": [
        "# Cleaned SCOTUS decision DataFrame preview\n",
        "cleaned_scotus_df = load_file_to_df(SCOTUS_DATA_CLEANED_FILE)\n",
        "cleaned_scotus_df[[\"title\", \"raw_text\", \"cleaned_text\"]].head()"
      ]
    },
    {
      "cell_type": "code",
      "execution_count": 7,
      "id": "e4c738c86167f020",
      "metadata": {
        "ExecuteTime": {
          "end_time": "2024-02-29T04:15:15.002985Z",
          "start_time": "2024-02-29T04:15:14.212554Z"
        },
        "collapsed": false
      },
      "outputs": [
        {
          "data": {
            "text/html": "<div>\n<style scoped>\n    .dataframe tbody tr th:only-of-type {\n        vertical-align: middle;\n    }\n\n    .dataframe tbody tr th {\n        vertical-align: top;\n    }\n\n    .dataframe thead th {\n        text-align: right;\n    }\n</style>\n<table border=\"1\" class=\"dataframe\">\n  <thead>\n    <tr style=\"text-align: right;\">\n      <th></th>\n      <th>legislation number</th>\n      <th>title</th>\n      <th>cleaned_text</th>\n      <th>tokenized_text_sents</th>\n      <th>tokenized_text_words</th>\n      <th>tokenized_text_words_norm</th>\n    </tr>\n  </thead>\n  <tbody>\n    <tr>\n      <th>0</th>\n      <td>H.R. 2907</td>\n      <td>Let Doctors Provide Reproductive Health Care Act</td>\n      <td>[Congressional Bills 118th Congress] [From the...</td>\n      <td>[[congressional bills 118th congress], [from t...</td>\n      <td>[congressional, bills, congress, u., s., gover...</td>\n      <td>[congressional, bill, congress, u., s., govern...</td>\n    </tr>\n    <tr>\n      <th>1</th>\n      <td>S. 1297</td>\n      <td>Let Doctors Provide Reproductive Health Care Act</td>\n      <td>[Congressional Bills 118th Congress] [From the...</td>\n      <td>[[congressional bills 118th congress], [from t...</td>\n      <td>[congressional, bills, congress, u., s., gover...</td>\n      <td>[congressional, bill, congress, u., s., govern...</td>\n    </tr>\n    <tr>\n      <th>2</th>\n      <td>H.R. 4901</td>\n      <td>Reproductive Health Care Accessibility Act</td>\n      <td>[Congressional Bills 118th Congress] [From the...</td>\n      <td>[[congressional bills 118th congress], [from t...</td>\n      <td>[congressional, bills, congress, u., s., gover...</td>\n      <td>[congressional, bill, congress, u., s., govern...</td>\n    </tr>\n    <tr>\n      <th>3</th>\n      <td>S. 2544</td>\n      <td>Reproductive Health Care Accessibility Act</td>\n      <td>[Congressional Bills 118th Congress] [From the...</td>\n      <td>[[congressional bills 118th congress], [from t...</td>\n      <td>[congressional, bills, congress, u., s., gover...</td>\n      <td>[congressional, bill, congress, u., s., govern...</td>\n    </tr>\n    <tr>\n      <th>4</th>\n      <td>H.R. 4147</td>\n      <td>Reproductive Health Care Training Act of 2023</td>\n      <td>[Congressional Bills 118th Congress] [From the...</td>\n      <td>[[congressional bills 118th congress], [from t...</td>\n      <td>[congressional, bills, congress, u., s., gover...</td>\n      <td>[congressional, bill, congress, u., s., govern...</td>\n    </tr>\n  </tbody>\n</table>\n</div>",
            "text/plain": "  legislation number                                             title  \\\n0          H.R. 2907  Let Doctors Provide Reproductive Health Care Act   \n1            S. 1297  Let Doctors Provide Reproductive Health Care Act   \n2          H.R. 4901        Reproductive Health Care Accessibility Act   \n3            S. 2544        Reproductive Health Care Accessibility Act   \n4          H.R. 4147     Reproductive Health Care Training Act of 2023   \n\n                                        cleaned_text  \\\n0  [Congressional Bills 118th Congress] [From the...   \n1  [Congressional Bills 118th Congress] [From the...   \n2  [Congressional Bills 118th Congress] [From the...   \n3  [Congressional Bills 118th Congress] [From the...   \n4  [Congressional Bills 118th Congress] [From the...   \n\n                                tokenized_text_sents  \\\n0  [[congressional bills 118th congress], [from t...   \n1  [[congressional bills 118th congress], [from t...   \n2  [[congressional bills 118th congress], [from t...   \n3  [[congressional bills 118th congress], [from t...   \n4  [[congressional bills 118th congress], [from t...   \n\n                                tokenized_text_words  \\\n0  [congressional, bills, congress, u., s., gover...   \n1  [congressional, bills, congress, u., s., gover...   \n2  [congressional, bills, congress, u., s., gover...   \n3  [congressional, bills, congress, u., s., gover...   \n4  [congressional, bills, congress, u., s., gover...   \n\n                           tokenized_text_words_norm  \n0  [congressional, bill, congress, u., s., govern...  \n1  [congressional, bill, congress, u., s., govern...  \n2  [congressional, bill, congress, u., s., govern...  \n3  [congressional, bill, congress, u., s., govern...  \n4  [congressional, bill, congress, u., s., govern...  "
          },
          "execution_count": 7,
          "metadata": {},
          "output_type": "execute_result"
        }
      ],
      "source": [
        "# Tokenized Congressional legislation DataFrame preview\n",
        "tokenized_cong_df = load_file_to_df(CONGRESS_DATA_TOKENIZED_FILE)\n",
        "tokenized_cong_df[\n",
        "    [\n",
        "        \"legislation number\",\n",
        "        \"title\",\n",
        "        \"cleaned_text\",\n",
        "        \"tokenized_text_sents\",\n",
        "        \"tokenized_text_words\",\n",
        "        \"tokenized_text_words_norm\",\n",
        "    ]\n",
        "].head()"
      ]
    },
    {
      "cell_type": "code",
      "execution_count": 8,
      "id": "37de809d2c7c715c",
      "metadata": {
        "ExecuteTime": {
          "end_time": "2024-02-29T04:15:15.067524Z",
          "start_time": "2024-02-29T04:15:15.001880Z"
        },
        "collapsed": false
      },
      "outputs": [
        {
          "data": {
            "text/html": "<div>\n<style scoped>\n    .dataframe tbody tr th:only-of-type {\n        vertical-align: middle;\n    }\n\n    .dataframe tbody tr th {\n        vertical-align: top;\n    }\n\n    .dataframe thead th {\n        text-align: right;\n    }\n</style>\n<table border=\"1\" class=\"dataframe\">\n  <thead>\n    <tr style=\"text-align: right;\">\n      <th></th>\n      <th>title</th>\n      <th>cleaned_text</th>\n      <th>tokenized_text_sents</th>\n      <th>tokenized_text_words</th>\n      <th>tokenized_text_words_norm</th>\n    </tr>\n  </thead>\n  <tbody>\n    <tr>\n      <th>0</th>\n      <td>Dobbs v. Jackson Women's Health Organization</td>\n      <td>1 (Slip Opinion) OCTOBER TERM, 2021 Syllabus N...</td>\n      <td>[1 (slip opinion) october term, 2021 syllabus ...</td>\n      <td>[slip, opinion, october, term, syllabus, note,...</td>\n      <td>[slip, opinion, october, term, syllabus, note,...</td>\n    </tr>\n    <tr>\n      <th>1</th>\n      <td>Whole Woman's Health v. Hellerstedt</td>\n      <td>1 (Slip Opinion) OCTOBER TERM, 2015 Syllabus N...</td>\n      <td>[1 (slip opinion) october term, 2015 syllabus ...</td>\n      <td>[slip, opinion, october, term, syllabus, note,...</td>\n      <td>[slip, opinion, october, term, syllabus, note,...</td>\n    </tr>\n    <tr>\n      <th>2</th>\n      <td>Gonzales v. Carhart</td>\n      <td>(Bench Opinion) OCTOBER TERM, 2006 1 Syllabus ...</td>\n      <td>[(bench opinion) october term, 2006 1 syllabus...</td>\n      <td>[bench, opinion, october, term, syllabus, note...</td>\n      <td>[bench, opinion, october, term, syllabus, note...</td>\n    </tr>\n    <tr>\n      <th>3</th>\n      <td>Stenberg v. Carhart</td>\n      <td>530US2 Unit: U85 [11-21-01 16:51:50] PAGES PGT...</td>\n      <td>[530us2 unit: u85, [11-21-01 16:51:50] pages p...</td>\n      <td>[530us2, unit, u85, 16:51:50, pages, pgt, o, p...</td>\n      <td>[530us2, unit, u85, 16:51:50, page, pgt, o, pi...</td>\n    </tr>\n    <tr>\n      <th>4</th>\n      <td>Planned Parenthood of Southeastern Pennsylvani...</td>\n      <td>505us3u117 07-09-96 09:34:02 PAGES OPINPGT 833...</td>\n      <td>[505us3u117 07-09-96 09:34:02 pages opinpgt 83...</td>\n      <td>[505us3u117, 09:34:02, pages, opinpgt, october...</td>\n      <td>[505us3u117, 09:34:02, page, opinpgt, october,...</td>\n    </tr>\n  </tbody>\n</table>\n</div>",
            "text/plain": "                                               title  \\\n0       Dobbs v. Jackson Women's Health Organization   \n1                Whole Woman's Health v. Hellerstedt   \n2                                Gonzales v. Carhart   \n3                                Stenberg v. Carhart   \n4  Planned Parenthood of Southeastern Pennsylvani...   \n\n                                        cleaned_text  \\\n0  1 (Slip Opinion) OCTOBER TERM, 2021 Syllabus N...   \n1  1 (Slip Opinion) OCTOBER TERM, 2015 Syllabus N...   \n2  (Bench Opinion) OCTOBER TERM, 2006 1 Syllabus ...   \n3  530US2 Unit: U85 [11-21-01 16:51:50] PAGES PGT...   \n4  505us3u117 07-09-96 09:34:02 PAGES OPINPGT 833...   \n\n                                tokenized_text_sents  \\\n0  [1 (slip opinion) october term, 2021 syllabus ...   \n1  [1 (slip opinion) october term, 2015 syllabus ...   \n2  [(bench opinion) october term, 2006 1 syllabus...   \n3  [530us2 unit: u85, [11-21-01 16:51:50] pages p...   \n4  [505us3u117 07-09-96 09:34:02 pages opinpgt 83...   \n\n                                tokenized_text_words  \\\n0  [slip, opinion, october, term, syllabus, note,...   \n1  [slip, opinion, october, term, syllabus, note,...   \n2  [bench, opinion, october, term, syllabus, note...   \n3  [530us2, unit, u85, 16:51:50, pages, pgt, o, p...   \n4  [505us3u117, 09:34:02, pages, opinpgt, october...   \n\n                           tokenized_text_words_norm  \n0  [slip, opinion, october, term, syllabus, note,...  \n1  [slip, opinion, october, term, syllabus, note,...  \n2  [bench, opinion, october, term, syllabus, note...  \n3  [530us2, unit, u85, 16:51:50, page, pgt, o, pi...  \n4  [505us3u117, 09:34:02, page, opinpgt, october,...  "
          },
          "execution_count": 8,
          "metadata": {},
          "output_type": "execute_result"
        }
      ],
      "source": [
        "# Tokenized SCOTUS decision DataFrame preview\n",
        "tokenized_scotus_df = load_file_to_df(SCOTUS_DATA_TOKENIZED_FILE)\n",
        "tokenized_scotus_df[\n",
        "    [\n",
        "        \"title\",\n",
        "        \"cleaned_text\",\n",
        "        \"tokenized_text_sents\",\n",
        "        \"tokenized_text_words\",\n",
        "        \"tokenized_text_words_norm\",\n",
        "    ]\n",
        "].head()"
      ]
    },
    {
      "cell_type": "code",
      "execution_count": 9,
      "id": "279b0cdb62d568dc",
      "metadata": {
        "ExecuteTime": {
          "end_time": "2024-02-29T04:15:19.542277Z",
          "start_time": "2024-02-29T04:15:15.029276Z"
        },
        "collapsed": false
      },
      "outputs": [
        {
          "data": {
            "text/html": "<div>\n<style scoped>\n    .dataframe tbody tr th:only-of-type {\n        vertical-align: middle;\n    }\n\n    .dataframe tbody tr th {\n        vertical-align: top;\n    }\n\n    .dataframe thead th {\n        text-align: right;\n    }\n</style>\n<table border=\"1\" class=\"dataframe\">\n  <thead>\n    <tr style=\"text-align: right;\">\n      <th></th>\n      <th>legislation number</th>\n      <th>title</th>\n      <th>tokenized_text_words_norm</th>\n      <th>summary_pos_tags_of_interest</th>\n    </tr>\n  </thead>\n  <tbody>\n    <tr>\n      <th>0</th>\n      <td>H.R. 2907</td>\n      <td>Let Doctors Provide Reproductive Health Care Act</td>\n      <td>[congressional, bill, congress, u., s., govern...</td>\n      <td>[Let, Doctors, Provide, bill, sets, protection...</td>\n    </tr>\n    <tr>\n      <th>1</th>\n      <td>S. 1297</td>\n      <td>Let Doctors Provide Reproductive Health Care Act</td>\n      <td>[congressional, bill, congress, u., s., govern...</td>\n      <td>[Let, Doctors, Provide, bill, sets, protection...</td>\n    </tr>\n    <tr>\n      <th>2</th>\n      <td>H.R. 4901</td>\n      <td>Reproductive Health Care Accessibility Act</td>\n      <td>[congressional, bill, congress, u., s., govern...</td>\n      <td>[bill, establishes, various, grants, related, ...</td>\n    </tr>\n    <tr>\n      <th>3</th>\n      <td>S. 2544</td>\n      <td>Reproductive Health Care Accessibility Act</td>\n      <td>[congressional, bill, congress, u., s., govern...</td>\n      <td>[bill, establishes, various, grants, related, ...</td>\n    </tr>\n    <tr>\n      <th>4</th>\n      <td>H.R. 4147</td>\n      <td>Reproductive Health Care Training Act of 2023</td>\n      <td>[congressional, bill, congress, u., s., govern...</td>\n      <td>None</td>\n    </tr>\n  </tbody>\n</table>\n</div>",
            "text/plain": "  legislation number                                             title  \\\n0          H.R. 2907  Let Doctors Provide Reproductive Health Care Act   \n1            S. 1297  Let Doctors Provide Reproductive Health Care Act   \n2          H.R. 4901        Reproductive Health Care Accessibility Act   \n3            S. 2544        Reproductive Health Care Accessibility Act   \n4          H.R. 4147     Reproductive Health Care Training Act of 2023   \n\n                           tokenized_text_words_norm  \\\n0  [congressional, bill, congress, u., s., govern...   \n1  [congressional, bill, congress, u., s., govern...   \n2  [congressional, bill, congress, u., s., govern...   \n3  [congressional, bill, congress, u., s., govern...   \n4  [congressional, bill, congress, u., s., govern...   \n\n                        summary_pos_tags_of_interest  \n0  [Let, Doctors, Provide, bill, sets, protection...  \n1  [Let, Doctors, Provide, bill, sets, protection...  \n2  [bill, establishes, various, grants, related, ...  \n3  [bill, establishes, various, grants, related, ...  \n4                                               None  "
          },
          "execution_count": 9,
          "metadata": {},
          "output_type": "execute_result"
        }
      ],
      "source": [
        "# PoS-tagged Congressional legislation DataFrame preview\n",
        "pos_cong_df = load_file_to_df(CONGRESS_DATA_POS_TAGGED_FILE)\n",
        "pos_cong_df[\n",
        "    [\n",
        "        \"legislation number\",\n",
        "        \"title\",\n",
        "        \"tokenized_text_words_norm\",\n",
        "        \"summary_pos_tags_of_interest\",\n",
        "    ]\n",
        "].head()"
      ]
    },
    {
      "cell_type": "code",
      "execution_count": 10,
      "id": "bb206bc95bda5b26",
      "metadata": {
        "ExecuteTime": {
          "end_time": "2024-02-29T04:15:19.637541Z",
          "start_time": "2024-02-29T04:15:19.541406Z"
        },
        "collapsed": false
      },
      "outputs": [
        {
          "data": {
            "text/html": "<div>\n<style scoped>\n    .dataframe tbody tr th:only-of-type {\n        vertical-align: middle;\n    }\n\n    .dataframe tbody tr th {\n        vertical-align: top;\n    }\n\n    .dataframe thead th {\n        text-align: right;\n    }\n</style>\n<table border=\"1\" class=\"dataframe\">\n  <thead>\n    <tr style=\"text-align: right;\">\n      <th></th>\n      <th>title</th>\n      <th>tokenized_text_words_norm</th>\n      <th>text_pos_tags_of_interest</th>\n    </tr>\n  </thead>\n  <tbody>\n    <tr>\n      <th>0</th>\n      <td>Dobbs v. Jackson Women's Health Organization</td>\n      <td>[slip, opinion, october, term, syllabus, note,...</td>\n      <td>[feasible, syllabus, headnote, released, done,...</td>\n    </tr>\n    <tr>\n      <th>1</th>\n      <td>Whole Woman's Health v. Hellerstedt</td>\n      <td>[slip, opinion, october, term, syllabus, note,...</td>\n      <td>[feasible, syllabus, headnote, released, done,...</td>\n    </tr>\n    <tr>\n      <th>2</th>\n      <td>Gonzales v. Carhart</td>\n      <td>[bench, opinion, october, term, syllabus, note...</td>\n      <td>[NOTE, feasible, syllabus, headnote, released,...</td>\n    </tr>\n    <tr>\n      <th>3</th>\n      <td>Stenberg v. Carhart</td>\n      <td>[530us2, unit, u85, 16:51:50, page, pgt, o, pi...</td>\n      <td>[Unit, STEN, eighth, circuit, Argued, offers, ...</td>\n    </tr>\n    <tr>\n      <th>4</th>\n      <td>Planned Parenthood of Southeastern Pennsylvani...</td>\n      <td>[505us3u117, 09:34:02, page, opinpgt, october,...</td>\n      <td>[PLANNED, PARENTHOOD, appeals, third, circuit,...</td>\n    </tr>\n  </tbody>\n</table>\n</div>",
            "text/plain": "                                               title  \\\n0       Dobbs v. Jackson Women's Health Organization   \n1                Whole Woman's Health v. Hellerstedt   \n2                                Gonzales v. Carhart   \n3                                Stenberg v. Carhart   \n4  Planned Parenthood of Southeastern Pennsylvani...   \n\n                           tokenized_text_words_norm  \\\n0  [slip, opinion, october, term, syllabus, note,...   \n1  [slip, opinion, october, term, syllabus, note,...   \n2  [bench, opinion, october, term, syllabus, note...   \n3  [530us2, unit, u85, 16:51:50, page, pgt, o, pi...   \n4  [505us3u117, 09:34:02, page, opinpgt, october,...   \n\n                           text_pos_tags_of_interest  \n0  [feasible, syllabus, headnote, released, done,...  \n1  [feasible, syllabus, headnote, released, done,...  \n2  [NOTE, feasible, syllabus, headnote, released,...  \n3  [Unit, STEN, eighth, circuit, Argued, offers, ...  \n4  [PLANNED, PARENTHOOD, appeals, third, circuit,...  "
          },
          "execution_count": 10,
          "metadata": {},
          "output_type": "execute_result"
        }
      ],
      "source": [
        "# PoS-tagged SCOTUS decision DataFrame preview\n",
        "pos_scotus_df = load_file_to_df(SCOTUS_DATA_POS_TAGGED_FILE)\n",
        "pos_scotus_df[\n",
        "    [\"title\", \"tokenized_text_words_norm\", \"text_pos_tags_of_interest\"]\n",
        "].head()"
      ]
    },
    {
      "cell_type": "code",
      "execution_count": 11,
      "id": "23ce7161c3a6653e",
      "metadata": {
        "ExecuteTime": {
          "end_time": "2024-02-29T04:15:24.466486Z",
          "start_time": "2024-02-29T04:15:19.636775Z"
        },
        "collapsed": false
      },
      "outputs": [
        {
          "data": {
            "text/html": "<div>\n<style scoped>\n    .dataframe tbody tr th:only-of-type {\n        vertical-align: middle;\n    }\n\n    .dataframe tbody tr th {\n        vertical-align: top;\n    }\n\n    .dataframe thead th {\n        text-align: right;\n    }\n</style>\n<table border=\"1\" class=\"dataframe\">\n  <thead>\n    <tr style=\"text-align: right;\">\n      <th></th>\n      <th>legislation number</th>\n      <th>title</th>\n      <th>summary_pos_tags_of_interest</th>\n      <th>hc_clusters</th>\n      <th>hw_clusters</th>\n      <th>knn_clusters</th>\n    </tr>\n  </thead>\n  <tbody>\n    <tr>\n      <th>0</th>\n      <td>H.R. 2907</td>\n      <td>Let Doctors Provide Reproductive Health Care Act</td>\n      <td>[Let, Doctors, Provide, bill, sets, protection...</td>\n      <td>18</td>\n      <td>27</td>\n      <td>15</td>\n    </tr>\n    <tr>\n      <th>1</th>\n      <td>S. 1297</td>\n      <td>Let Doctors Provide Reproductive Health Care Act</td>\n      <td>[Let, Doctors, Provide, bill, sets, protection...</td>\n      <td>18</td>\n      <td>27</td>\n      <td>15</td>\n    </tr>\n    <tr>\n      <th>2</th>\n      <td>H.R. 4901</td>\n      <td>Reproductive Health Care Accessibility Act</td>\n      <td>[bill, establishes, various, grants, related, ...</td>\n      <td>19</td>\n      <td>27</td>\n      <td>23</td>\n    </tr>\n    <tr>\n      <th>3</th>\n      <td>S. 2544</td>\n      <td>Reproductive Health Care Accessibility Act</td>\n      <td>[bill, establishes, various, grants, related, ...</td>\n      <td>19</td>\n      <td>27</td>\n      <td>23</td>\n    </tr>\n    <tr>\n      <th>4</th>\n      <td>H.R. 4147</td>\n      <td>Reproductive Health Care Training Act of 2023</td>\n      <td>None</td>\n      <td>7</td>\n      <td>22</td>\n      <td>6</td>\n    </tr>\n  </tbody>\n</table>\n</div>",
            "text/plain": "  legislation number                                             title  \\\n0          H.R. 2907  Let Doctors Provide Reproductive Health Care Act   \n1            S. 1297  Let Doctors Provide Reproductive Health Care Act   \n2          H.R. 4901        Reproductive Health Care Accessibility Act   \n3            S. 2544        Reproductive Health Care Accessibility Act   \n4          H.R. 4147     Reproductive Health Care Training Act of 2023   \n\n                        summary_pos_tags_of_interest  hc_clusters  \\\n0  [Let, Doctors, Provide, bill, sets, protection...           18   \n1  [Let, Doctors, Provide, bill, sets, protection...           18   \n2  [bill, establishes, various, grants, related, ...           19   \n3  [bill, establishes, various, grants, related, ...           19   \n4                                               None            7   \n\n   hw_clusters  knn_clusters  \n0           27            15  \n1           27            15  \n2           27            23  \n3           27            23  \n4           22             6  "
          },
          "execution_count": 11,
          "metadata": {},
          "output_type": "execute_result"
        }
      ],
      "source": [
        "# Clustered Congressional legislation DataFrame preview\n",
        "clustered_cong_df = load_file_to_df(CONGRESS_DATA_CLUSTERED_FILE)\n",
        "clustered_cong_df[\n",
        "    [\n",
        "        \"legislation number\",\n",
        "        \"title\",\n",
        "        \"summary_pos_tags_of_interest\",\n",
        "        \"hc_clusters\",\n",
        "        \"hw_clusters\",\n",
        "        \"knn_clusters\",\n",
        "    ]\n",
        "].head()"
      ]
    },
    {
      "cell_type": "code",
      "execution_count": 12,
      "id": "59bfff833215c58e",
      "metadata": {
        "ExecuteTime": {
          "end_time": "2024-02-29T04:15:24.568256Z",
          "start_time": "2024-02-29T04:15:24.467689Z"
        },
        "collapsed": false
      },
      "outputs": [
        {
          "data": {
            "text/html": "<div>\n<style scoped>\n    .dataframe tbody tr th:only-of-type {\n        vertical-align: middle;\n    }\n\n    .dataframe tbody tr th {\n        vertical-align: top;\n    }\n\n    .dataframe thead th {\n        text-align: right;\n    }\n</style>\n<table border=\"1\" class=\"dataframe\">\n  <thead>\n    <tr style=\"text-align: right;\">\n      <th></th>\n      <th>title</th>\n      <th>text_pos_tags_of_interest</th>\n      <th>hc_clusters</th>\n      <th>hw_clusters</th>\n      <th>knn_clusters</th>\n    </tr>\n  </thead>\n  <tbody>\n    <tr>\n      <th>0</th>\n      <td>Dobbs v. Jackson Women's Health Organization</td>\n      <td>[feasible, syllabus, headnote, released, done,...</td>\n      <td>2</td>\n      <td>2</td>\n      <td>2</td>\n    </tr>\n    <tr>\n      <th>1</th>\n      <td>Whole Woman's Health v. Hellerstedt</td>\n      <td>[feasible, syllabus, headnote, released, done,...</td>\n      <td>1</td>\n      <td>1</td>\n      <td>2</td>\n    </tr>\n    <tr>\n      <th>2</th>\n      <td>Gonzales v. Carhart</td>\n      <td>[NOTE, feasible, syllabus, headnote, released,...</td>\n      <td>3</td>\n      <td>3</td>\n      <td>4</td>\n    </tr>\n    <tr>\n      <th>3</th>\n      <td>Stenberg v. Carhart</td>\n      <td>[Unit, STEN, eighth, circuit, Argued, offers, ...</td>\n      <td>6</td>\n      <td>6</td>\n      <td>4</td>\n    </tr>\n    <tr>\n      <th>4</th>\n      <td>Planned Parenthood of Southeastern Pennsylvani...</td>\n      <td>[PLANNED, PARENTHOOD, appeals, third, circuit,...</td>\n      <td>1</td>\n      <td>1</td>\n      <td>2</td>\n    </tr>\n  </tbody>\n</table>\n</div>",
            "text/plain": "                                               title  \\\n0       Dobbs v. Jackson Women's Health Organization   \n1                Whole Woman's Health v. Hellerstedt   \n2                                Gonzales v. Carhart   \n3                                Stenberg v. Carhart   \n4  Planned Parenthood of Southeastern Pennsylvani...   \n\n                           text_pos_tags_of_interest  hc_clusters  \\\n0  [feasible, syllabus, headnote, released, done,...            2   \n1  [feasible, syllabus, headnote, released, done,...            1   \n2  [NOTE, feasible, syllabus, headnote, released,...            3   \n3  [Unit, STEN, eighth, circuit, Argued, offers, ...            6   \n4  [PLANNED, PARENTHOOD, appeals, third, circuit,...            1   \n\n   hw_clusters  knn_clusters  \n0            2             2  \n1            1             2  \n2            3             4  \n3            6             4  \n4            1             2  "
          },
          "execution_count": 12,
          "metadata": {},
          "output_type": "execute_result"
        }
      ],
      "source": [
        "# Clustered SCOTUS decision DataFrame preview\n",
        "clustered_scotus_df = load_file_to_df(SCOTUS_DATA_CLUSTERED_FILE)\n",
        "clustered_scotus_df[\n",
        "    [\n",
        "        \"title\",\n",
        "        \"text_pos_tags_of_interest\",\n",
        "        \"hc_clusters\",\n",
        "        \"hw_clusters\",\n",
        "        \"knn_clusters\",\n",
        "    ]\n",
        "].head()"
      ]
    },
    {
      "cell_type": "code",
      "execution_count": 19,
      "id": "fcd616b377be18cd",
      "metadata": {
        "ExecuteTime": {
          "end_time": "2024-02-29T04:29:25.822305Z",
          "start_time": "2024-02-29T04:29:24.407754Z"
        },
        "collapsed": false
      },
      "outputs": [
        {
          "data": {
            "text/html": "<div>\n<style scoped>\n    .dataframe tbody tr th:only-of-type {\n        vertical-align: middle;\n    }\n\n    .dataframe tbody tr th {\n        vertical-align: top;\n    }\n\n    .dataframe thead th {\n        text-align: right;\n    }\n</style>\n<table border=\"1\" class=\"dataframe\">\n  <thead>\n    <tr style=\"text-align: right;\">\n      <th></th>\n      <th>legislation number</th>\n      <th>title</th>\n      <th>cleaned_text</th>\n      <th>cleaned_summary</th>\n      <th>cleaned_text_ner</th>\n      <th>cleaned_summary_ner</th>\n    </tr>\n  </thead>\n  <tbody>\n    <tr>\n      <th>0</th>\n      <td>H.R. 2907</td>\n      <td>Let Doctors Provide Reproductive Health Care Act</td>\n      <td>[Congressional Bills 118th Congress] [From the...</td>\n      <td>Let Doctors Provide Reproductive Health Care A...</td>\n      <td>[[Congressional Bills 118th Congress, ORG], [t...</td>\n      <td>[[1, CARDINAL], [2, CARDINAL], [The Department...</td>\n    </tr>\n    <tr>\n      <th>1</th>\n      <td>S. 1297</td>\n      <td>Let Doctors Provide Reproductive Health Care Act</td>\n      <td>[Congressional Bills 118th Congress] [From the...</td>\n      <td>Let Doctors Provide Reproductive Health Care A...</td>\n      <td>[[Congressional Bills 118th Congress, ORG], [t...</td>\n      <td>[[1, CARDINAL], [2, CARDINAL], [The Department...</td>\n    </tr>\n    <tr>\n      <th>2</th>\n      <td>H.R. 4901</td>\n      <td>Reproductive Health Care Accessibility Act</td>\n      <td>[Congressional Bills 118th Congress] [From the...</td>\n      <td>Reproductive Health Care Accessibility Act Thi...</td>\n      <td>[[Congressional Bills 118th Congress, ORG], [t...</td>\n      <td>[[Reproductive Health Care Accessibility Act, ...</td>\n    </tr>\n    <tr>\n      <th>3</th>\n      <td>S. 2544</td>\n      <td>Reproductive Health Care Accessibility Act</td>\n      <td>[Congressional Bills 118th Congress] [From the...</td>\n      <td>Reproductive Health Care Accessibility Act Thi...</td>\n      <td>[[Congressional Bills 118th Congress, ORG], [t...</td>\n      <td>[[Reproductive Health Care Accessibility Act, ...</td>\n    </tr>\n    <tr>\n      <th>4</th>\n      <td>H.R. 4147</td>\n      <td>Reproductive Health Care Training Act of 2023</td>\n      <td>[Congressional Bills 118th Congress] [From the...</td>\n      <td>None</td>\n      <td>[[Congressional Bills 118th Congress, ORG], [t...</td>\n      <td>[]</td>\n    </tr>\n  </tbody>\n</table>\n</div>",
            "text/plain": "  legislation number                                             title  \\\n0          H.R. 2907  Let Doctors Provide Reproductive Health Care Act   \n1            S. 1297  Let Doctors Provide Reproductive Health Care Act   \n2          H.R. 4901        Reproductive Health Care Accessibility Act   \n3            S. 2544        Reproductive Health Care Accessibility Act   \n4          H.R. 4147     Reproductive Health Care Training Act of 2023   \n\n                                        cleaned_text  \\\n0  [Congressional Bills 118th Congress] [From the...   \n1  [Congressional Bills 118th Congress] [From the...   \n2  [Congressional Bills 118th Congress] [From the...   \n3  [Congressional Bills 118th Congress] [From the...   \n4  [Congressional Bills 118th Congress] [From the...   \n\n                                     cleaned_summary  \\\n0  Let Doctors Provide Reproductive Health Care A...   \n1  Let Doctors Provide Reproductive Health Care A...   \n2  Reproductive Health Care Accessibility Act Thi...   \n3  Reproductive Health Care Accessibility Act Thi...   \n4                                               None   \n\n                                    cleaned_text_ner  \\\n0  [[Congressional Bills 118th Congress, ORG], [t...   \n1  [[Congressional Bills 118th Congress, ORG], [t...   \n2  [[Congressional Bills 118th Congress, ORG], [t...   \n3  [[Congressional Bills 118th Congress, ORG], [t...   \n4  [[Congressional Bills 118th Congress, ORG], [t...   \n\n                                 cleaned_summary_ner  \n0  [[1, CARDINAL], [2, CARDINAL], [The Department...  \n1  [[1, CARDINAL], [2, CARDINAL], [The Department...  \n2  [[Reproductive Health Care Accessibility Act, ...  \n3  [[Reproductive Health Care Accessibility Act, ...  \n4                                                 []  "
          },
          "execution_count": 19,
          "metadata": {},
          "output_type": "execute_result"
        }
      ],
      "source": [
        "# NER'ed Congressional legislation DateFrame preview\n",
        "ner_cong_df = load_file_to_df(CONGRESS_DATA_NER_FILE)\n",
        "ner_cong_df[\n",
        "    [\n",
        "        \"legislation number\",\n",
        "        \"title\",\n",
        "        \"cleaned_text\",\n",
        "        \"cleaned_summary\",\n",
        "        \"cleaned_text_ner\",\n",
        "        \"cleaned_summary_ner\",\n",
        "    ]\n",
        "].head()"
      ]
    },
    {
      "cell_type": "code",
      "execution_count": 21,
      "id": "d59ecacfef3facde",
      "metadata": {
        "ExecuteTime": {
          "end_time": "2024-02-29T04:29:44.959947Z",
          "start_time": "2024-02-29T04:29:44.882743Z"
        },
        "collapsed": false
      },
      "outputs": [
        {
          "data": {
            "text/html": "<div>\n<style scoped>\n    .dataframe tbody tr th:only-of-type {\n        vertical-align: middle;\n    }\n\n    .dataframe tbody tr th {\n        vertical-align: top;\n    }\n\n    .dataframe thead th {\n        text-align: right;\n    }\n</style>\n<table border=\"1\" class=\"dataframe\">\n  <thead>\n    <tr style=\"text-align: right;\">\n      <th></th>\n      <th>title</th>\n      <th>cleaned_text</th>\n      <th>cleaned_text_ner</th>\n    </tr>\n  </thead>\n  <tbody>\n    <tr>\n      <th>0</th>\n      <td>Dobbs v. Jackson Women's Health Organization</td>\n      <td>1 (Slip Opinion) OCTOBER TERM, 2021 Syllabus N...</td>\n      <td>[[1, CARDINAL], [OCTOBER, DATE], [2021, DATE],...</td>\n    </tr>\n    <tr>\n      <th>1</th>\n      <td>Whole Woman's Health v. Hellerstedt</td>\n      <td>1 (Slip Opinion) OCTOBER TERM, 2015 Syllabus N...</td>\n      <td>[[1, CARDINAL], [OCTOBER, DATE], [2015, DATE],...</td>\n    </tr>\n    <tr>\n      <th>2</th>\n      <td>Gonzales v. Carhart</td>\n      <td>(Bench Opinion) OCTOBER TERM, 2006 1 Syllabus ...</td>\n      <td>[[Bench Opinion, PERSON], [2006 1, DATE], [Cou...</td>\n    </tr>\n    <tr>\n      <th>3</th>\n      <td>Stenberg v. Carhart</td>\n      <td>530US2 Unit: U85 [11-21-01 16:51:50] PAGES PGT...</td>\n      <td>[[530US2, PERSON], [U85, ORG], [11-21-01, DATE...</td>\n    </tr>\n    <tr>\n      <th>4</th>\n      <td>Planned Parenthood of Southeastern Pennsylvani...</td>\n      <td>505us3u117 07-09-96 09:34:02 PAGES OPINPGT 833...</td>\n      <td>[[07-09-96, DATE], [833, CARDINAL], [OCTOBER, ...</td>\n    </tr>\n  </tbody>\n</table>\n</div>",
            "text/plain": "                                               title  \\\n0       Dobbs v. Jackson Women's Health Organization   \n1                Whole Woman's Health v. Hellerstedt   \n2                                Gonzales v. Carhart   \n3                                Stenberg v. Carhart   \n4  Planned Parenthood of Southeastern Pennsylvani...   \n\n                                        cleaned_text  \\\n0  1 (Slip Opinion) OCTOBER TERM, 2021 Syllabus N...   \n1  1 (Slip Opinion) OCTOBER TERM, 2015 Syllabus N...   \n2  (Bench Opinion) OCTOBER TERM, 2006 1 Syllabus ...   \n3  530US2 Unit: U85 [11-21-01 16:51:50] PAGES PGT...   \n4  505us3u117 07-09-96 09:34:02 PAGES OPINPGT 833...   \n\n                                    cleaned_text_ner  \n0  [[1, CARDINAL], [OCTOBER, DATE], [2021, DATE],...  \n1  [[1, CARDINAL], [OCTOBER, DATE], [2015, DATE],...  \n2  [[Bench Opinion, PERSON], [2006 1, DATE], [Cou...  \n3  [[530US2, PERSON], [U85, ORG], [11-21-01, DATE...  \n4  [[07-09-96, DATE], [833, CARDINAL], [OCTOBER, ...  "
          },
          "execution_count": 21,
          "metadata": {},
          "output_type": "execute_result"
        }
      ],
      "source": [
        "# NER'ed SCOTUS decision DateFrame preview\n",
        "ner_scotus_df = load_file_to_df(SCOTUS_DATA_NER_FILE)\n",
        "ner_scotus_df[\n",
        "    [\n",
        "        \"title\",\n",
        "        \"cleaned_text\",\n",
        "        \"cleaned_text_ner\",\n",
        "    ]\n",
        "].head()"
      ]
    },
    {
      "cell_type": "code",
      "execution_count": null,
      "id": "6f24faef5babd526",
      "metadata": {
        "collapsed": false
      },
      "outputs": [],
      "source": [
        "# Topic modeled Congressional legislation DateFrame preview"
      ]
    },
    {
      "cell_type": "code",
      "execution_count": null,
      "id": "c9262344166800ba",
      "metadata": {
        "ExecuteTime": {
          "start_time": "2024-02-29T04:15:25.626942Z"
        },
        "collapsed": false
      },
      "outputs": [],
      "source": [
        "# DYN topic modeled Congressional legislation DateFrame preview"
      ]
    },
    {
      "cell_type": "code",
      "execution_count": null,
      "id": "1441e1ac048c4ede",
      "metadata": {
        "ExecuteTime": {
          "start_time": "2024-02-29T04:15:25.628179Z"
        },
        "collapsed": false
      },
      "outputs": [],
      "source": [
        "# Topic modeled SCOTUS decision DateFrame preview"
      ]
    }
  ],
  "metadata": {
    "kernelspec": {
      "display_name": "Python 3",
      "language": "python",
      "name": "python3"
    },
    "language_info": {
      "codemirror_mode": {
        "name": "ipython",
        "version": 2
      },
      "file_extension": ".py",
      "mimetype": "text/x-python",
      "name": "python",
      "nbconvert_exporter": "python",
      "pygments_lexer": "ipython2",
      "version": "2.7.6"
    }
  },
  "nbformat": 4,
  "nbformat_minor": 5
}
