{
  "cells": [
    {
      "cell_type": "code",
      "execution_count": null,
      "id": "initial_id",
      "metadata": {
        "collapsed": true
      },
      "outputs": [],
      "source": []
    },
    {
      "cell_type": "markdown",
      "id": "ba40a57eaa21b8dc",
      "metadata": {
        "collapsed": false
      },
      "source": [
        "# From Roe to Dobbs: Tracing the Legislative Shift in Abortion Rights in the United States"
      ]
    },
    {
      "cell_type": "markdown",
      "id": "1510a882c380e9d",
      "metadata": {
        "collapsed": false
      },
      "source": [
        "This project aims to analyze the evolution of abortion discourse in U.S. legislation, particularly between the landmark\n",
        "Roe v. Wade (1973) and Dobbs v. Jackson (2022) decisions, which established and then rescinded abortion as a constitutional\n",
        "right, respectively. We have assembled a dataset of congressional legislation from 1973 to 2024 alongside a dataset of\n",
        "opinions from 13 pivotal Supreme Court cases.\n",
        "\n",
        "Our main research questions are as follows:\n",
        "\n",
        "1. How, if at all, has abortion discourse evolved between the two landmark decisions?\n",
        "2. What congressional legislation came as a direct result of, or in contradiction to, abortion-related SCOTUS decisions?\n",
        "3. What are the main arguments used in favor of and opposed to abortion?\n",
        "\n",
        "This project will focus on two main datasets: abortion-related SCOTUS opinions and abortion-related congressional\n",
        "legislation. For congressional legislation, we will explore all legislation from 1973 until 2024. We sourced this\n",
        "legislation from the congress.gov legislation search, where we filtered for any legislation within this period that could\n",
        "have become bills and included the following keywords in the bill text or summary: 'abortion,' 'reproduction,' or\n",
        "'reproductive health care.' For the SCOTUS abortion legislation, we targeted SCOTUS decisions outlined on supreme.justia.com,\n",
        "which provides a list of abortion-relevant SCOTUS decisions from 1965-2022. From here, we used web-scraping to extract the\n",
        "relevant information for each SCOTUS opinion, including opinion text.\n",
        "\n",
        "Based on our outlined questions, we expect to apply the following methods:\n",
        "\n",
        "1. A **clustering method** to categorize the congressional legislation into three groups: pro-abortion, anti-abortion, and unrelated (noise). We will review and discard the unrelated legislation.\n",
        "2. Similarly, a **clustering method** to categorize arguments within SCOTUS opinions as either pro- or anti-abortion.\n",
        "3. A **structural topic modeling** on the two relevant clusters to explore the evolution of arguments for and against abortion over time. Due to the absence of specific dates on the legislation, we will use the congressional session number as a temporal reference.\n",
        "4. A **named-entity recognition** model for extracting referenced individuals, other congressional legislation, and most importantly, the relevant supreme court cases.\n",
        "\n",
        "We plan to use them as benchmarks to categorize legislative sessions. For example, if a case on abortion was adjudicated\n",
        "in 2010 and another in 2015, we would assess the semantic, tonal, and linguistic similarities among all congressional\n",
        "legislation enacted between those years. Our hypothesis posits that the substance of Supreme Court opinions significantly\n",
        "influences abortion-related legislation from the time of their issuance until a subsequent opinion emerges. We will also\n",
        "determine which opinions, aside from Roe and Dobbs, exert the most influence on legislative documents. Finally, as a stretch\n",
        "goal, we will create a network graph that centers around the SCOTUS opinions and links out to pieces of congressional\n",
        "legislation."
      ]
    },
    {
      "cell_type": "markdown",
      "id": "95a052b3c575ad5e",
      "metadata": {
        "collapsed": false
      },
      "source": []
    }
  ],
  "metadata": {
    "kernelspec": {
      "display_name": "Python 3",
      "language": "python",
      "name": "python3"
    },
    "language_info": {
      "codemirror_mode": {
        "name": "ipython",
        "version": 2
      },
      "file_extension": ".py",
      "mimetype": "text/x-python",
      "name": "python",
      "nbconvert_exporter": "python",
      "pygments_lexer": "ipython2",
      "version": "2.7.6"
    }
  },
  "nbformat": 4,
  "nbformat_minor": 5
}
